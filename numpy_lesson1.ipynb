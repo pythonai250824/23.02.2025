{
 "cells": [
  {
   "cell_type": "code",
   "execution_count": 4,
   "id": "4b39a2a7-8dd7-4b56-a8b2-cb6467c41335",
   "metadata": {},
   "outputs": [
    {
     "name": "stdout",
     "output_type": "stream",
     "text": [
      "Package                           Version      Location                                   Installer\n",
      "--------------------------------- ------------ ------------------------------------------ ---------\n",
      "aiobotocore                       2.7.0        C:\\ProgramData\\anaconda3\\Lib\\site-packages conda\n",
      "aiohttp                           3.9.3        C:\\ProgramData\\anaconda3\\Lib\\site-packages conda\n",
      "aioitertools                      0.7.1        C:\\ProgramData\\anaconda3\\Lib\\site-packages conda\n",
      "numpy                             1.26.4       C:\\ProgramData\\anaconda3\\Lib\\site-packages conda\n",
      "numpydoc                          1.5.0        C:\\ProgramData\\anaconda3\\Lib\\site-packages conda\n",
      "openpyxl                          3.0.10       C:\\ProgramData\\anaconda3\\Lib\\site-packages\n",
      "overrides                         7.4.0        C:\\ProgramData\\anaconda3\\Lib\\site-packages conda\n",
      "packaging                         23.1         C:\\ProgramData\\anaconda3\\Lib\\site-packages conda\n",
      "pandas                            2.1.4        C:\\ProgramData\\anaconda3\\Lib\\site-packages conda\n"
     ]
    }
   ],
   "source": [
    "#  ! ==> Terminal\n",
    "!pip list -v"
   ]
  },
  {
   "cell_type": "code",
   "execution_count": null,
   "id": "b0082ac1-9f51-4e06-9694-cd2729756fce",
   "metadata": {},
   "outputs": [],
   "source": [
    "!pip install numpy"
   ]
  },
  {
   "cell_type": "code",
   "execution_count": 6,
   "id": "835c82de-ded0-4033-93dd-1c22268e5dd7",
   "metadata": {},
   "outputs": [
    {
     "data": {
      "text/plain": [
       "3"
      ]
     },
     "execution_count": 6,
     "metadata": {},
     "output_type": "execute_result"
    }
   ],
   "source": [
    "import numpy as np\n",
    "np.absolute(-3)"
   ]
  },
  {
   "cell_type": "code",
   "execution_count": 21,
   "id": "623b3005-83e7-4aff-8a2e-8b4b34c5ea35",
   "metadata": {},
   "outputs": [
    {
     "name": "stdout",
     "output_type": "stream",
     "text": [
      "<class 'numpy.ndarray'> [8 0 0]\n",
      "<class 'list'> [1, 2, 3]\n"
     ]
    }
   ],
   "source": [
    "first = np.array([8.99999, .2, .3], dtype=int)\n",
    "l1 = [1, 2, 3]\n",
    "np.array(l1)\n",
    "print(type(first), first)\n",
    "print(type(l1), l1)"
   ]
  },
  {
   "cell_type": "code",
   "execution_count": 32,
   "id": "3eae6bd9-ccd6-4342-b4fc-db23f0366042",
   "metadata": {},
   "outputs": [
    {
     "name": "stdout",
     "output_type": "stream",
     "text": [
      "it took 2.816803 seconds\n",
      "it took 0.044660 seconds\n"
     ]
    }
   ],
   "source": [
    "import time\n",
    "import numpy as np\n",
    "\n",
    "def add_lists(a, b):\n",
    "    result = []\n",
    "    for i in range(min(len(a), len(b))):\n",
    "        result.append(a[i] + b[i])\n",
    "    return result\n",
    "\n",
    "def add_numpy(a, b):\n",
    "    result = a + b\n",
    "\n",
    "########## create\n",
    "n = 10 ** 7\n",
    "a_list = list(range(n))\n",
    "b_list = list(range(n))\n",
    "\n",
    "np_a = np.array(a_list)\n",
    "np_b = np.array(b_list)\n",
    "\n",
    "########## measure list\n",
    "\n",
    "start = time.time()\n",
    "\n",
    "add_lists(a_list, b_list)\n",
    "\n",
    "end = time.time()\n",
    "print(f\"it took {end - start:.6f} seconds\")\n",
    "\n",
    "########## measure numpy\n",
    "\n",
    "start = time.time()\n",
    "\n",
    "add_numpy(np_a, np_b)\n",
    "\n",
    "end = time.time()\n",
    "print(f\"it took {end - start:.6f} seconds\")\n",
    "\n"
   ]
  },
  {
   "cell_type": "code",
   "execution_count": 33,
   "id": "0e5900f4-36cd-4085-871a-3b57c91b4fea",
   "metadata": {},
   "outputs": [
    {
     "name": "stdout",
     "output_type": "stream",
     "text": [
      "Python list container size: 8000056 bytes\n",
      "Python list total size (including all integer objects): 36000056 bytes\n",
      "NumPy array size (nbytes): 4000000 bytes\n"
     ]
    }
   ],
   "source": [
    "import sys\n",
    "import numpy as np\n",
    "\n",
    "# Number of elements\n",
    "n = 1_000_000\n",
    "\n",
    "# Create a Python list and a NumPy array with the same integers\n",
    "py_list = list(range(n))\n",
    "np_array = np.arange(n)\n",
    "\n",
    "# Calculate the size of the Python list container itself (a list of pointers)\n",
    "list_container_size = sys.getsizeof(py_list)\n",
    "\n",
    "# Calculate the size of each integer element in the list\n",
    "list_elements_size = sum(sys.getsizeof(item) for item in py_list)\n",
    "total_py_list_size = list_container_size + list_elements_size\n",
    "\n",
    "# For the NumPy array, use the nbytes attribute to get the size of the data buffer\n",
    "np_array_size = np_array.nbytes\n",
    "\n",
    "print(\"Python list container size:\", list_container_size, \"bytes\")\n",
    "print(\"Python list total size (including all integer objects):\", total_py_list_size, \"bytes\")\n",
    "print(\"NumPy array size (nbytes):\", np_array_size, \"bytes\")\n"
   ]
  },
  {
   "cell_type": "code",
   "execution_count": 43,
   "id": "62a5c1ef-eda1-4b5f-8900-9ce183940efa",
   "metadata": {},
   "outputs": [
    {
     "data": {
      "text/plain": [
       "array([ 0. ,  0.5,  1. ,  1.5,  2. ,  2.5,  3. ,  3.5,  4. ,  4.5,  5. ,\n",
       "        5.5,  6. ,  6.5,  7. ,  7.5,  8. ,  8.5,  9. ,  9.5, 10. , 10.5])"
      ]
     },
     "execution_count": 43,
     "metadata": {},
     "output_type": "execute_result"
    }
   ],
   "source": [
    "np.arange(0, 10 + 1, 0.5)"
   ]
  },
  {
   "cell_type": "code",
   "execution_count": 40,
   "id": "e0fdace1-f424-4d82-8b96-3ff573050eaf",
   "metadata": {},
   "outputs": [
    {
     "name": "stdout",
     "output_type": "stream",
     "text": [
      "[1 2 3]\n",
      "[[1 2 3]\n",
      " [4 5 6]\n",
      " [7 8 9]]\n"
     ]
    }
   ],
   "source": [
    "print(np.array([1, 2, 3]))\n",
    "print(np.array([[1, 2, 3], [4, 5, 6], [7, 8, 9]]))"
   ]
  },
  {
   "cell_type": "code",
   "execution_count": 53,
   "id": "1c8966ac-c5dd-494b-a353-dfdfbb551e37",
   "metadata": {},
   "outputs": [
    {
     "name": "stdout",
     "output_type": "stream",
     "text": [
      "[0 0 0 0 0 0 0 0 0 0]\n",
      "[0. 0. 0. 0. 0. 0. 0. 0. 0. 0.]\n",
      "[[0. 0. 0. 0. 0.]\n",
      " [0. 0. 0. 0. 0.]]\n"
     ]
    },
    {
     "data": {
      "text/plain": [
       "array([[0, 1],\n",
       "       [2, 3],\n",
       "       [4, 5],\n",
       "       [6, 7],\n",
       "       [8, 9]])"
      ]
     },
     "execution_count": 53,
     "metadata": {},
     "output_type": "execute_result"
    }
   ],
   "source": [
    "print(np.zeros(10, dtype=int))\n",
    "print(np.zeros(10, dtype=float))\n",
    "print(np.zeros((2, 5), dtype=float))\n",
    "sh = np.arange(0, 10)\n",
    "np.reshape(sh, (5, 2))  # change size to 5 rows and 2 columns"
   ]
  },
  {
   "cell_type": "code",
   "execution_count": 69,
   "id": "729ab96f-9fc4-4d17-b00a-f0e51cddb34b",
   "metadata": {},
   "outputs": [
    {
     "name": "stdout",
     "output_type": "stream",
     "text": [
      "[ 0  5 10]\n",
      "[ 0.   2.5  5.   7.5 10. ]\n",
      "[ 0.  2.  4.  6.  8. 10.]\n"
     ]
    }
   ],
   "source": [
    "print(np.linspace(0, 10, 3, dtype=int))  # 3rd parameter = how many numbers\n",
    "print(np.linspace(0, 10, 5, dtype=float))\n",
    "print(np.linspace(0, 10, 6, dtype=float))\n",
    "#   0             10 \n",
    "#   | _ X _ X ... |\n",
    "\n",
    "# help with colors\n",
    "# ?np.linspace"
   ]
  },
  {
   "cell_type": "code",
   "execution_count": 93,
   "id": "b7e70f6f-48aa-4e71-a3ae-0454f603c02b",
   "metadata": {},
   "outputs": [
    {
     "name": "stdout",
     "output_type": "stream",
     "text": [
      "[[0.9041304  0.72530724 2.55834123 4.0090151  5.39869398]\n",
      " [5.01134905 6.72295099 8.45884558 1.94435857 1.95740763]\n",
      " [4.96931267 6.61758432 5.95005546 4.83802011 7.56149164]\n",
      " [2.86446363 4.80905159 5.63818236 0.03428061 3.05815099]]\n",
      "[[0.9  0.73 2.56 4.01 5.4 ]\n",
      " [5.01 6.72 8.46 1.94 1.96]\n",
      " [4.97 6.62 5.95 4.84 7.56]\n",
      " [2.86 4.81 5.64 0.03 3.06]]\n",
      "[[0 0 2 4 5]\n",
      " [5 6 8 1 1]\n",
      " [4 6 5 4 7]\n",
      " [2 4 5 0 3]]\n"
     ]
    }
   ],
   "source": [
    "randy = np.random.rand(4, 5) * 9\n",
    "print(randy)\n",
    "print(np.round(randy, 2))\n",
    "print(randy.astype(int))\n"
   ]
  },
  {
   "cell_type": "code",
   "execution_count": 99,
   "id": "20e54e03-1793-4112-9755-1ac9fbce01c9",
   "metadata": {},
   "outputs": [
    {
     "data": {
      "text/plain": [
       "array([[51, 92, 14, 71, 60],\n",
       "       [20, 82, 86, 74, 74]])"
      ]
     },
     "execution_count": 99,
     "metadata": {},
     "output_type": "execute_result"
    }
   ],
   "source": [
    "# 5 random numbers 1-10\n",
    "# 9, 8, f()\n",
    "# 9, 7, 5, 4, 6\n",
    "\n",
    "np.random.seed(42)\n",
    "np.random.randint(0, 101, (2,5))\n",
    "\n"
   ]
  }
 ],
 "metadata": {
  "kernelspec": {
   "display_name": "Python 3 (ipykernel)",
   "language": "python",
   "name": "python3"
  },
  "language_info": {
   "codemirror_mode": {
    "name": "ipython",
    "version": 3
   },
   "file_extension": ".py",
   "mimetype": "text/x-python",
   "name": "python",
   "nbconvert_exporter": "python",
   "pygments_lexer": "ipython3",
   "version": "3.11.7"
  }
 },
 "nbformat": 4,
 "nbformat_minor": 5
}
